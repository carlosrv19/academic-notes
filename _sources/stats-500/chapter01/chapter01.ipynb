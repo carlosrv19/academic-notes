{
 "cells": [
  {
   "cell_type": "markdown",
   "id": "52ba85f9",
   "metadata": {},
   "source": [
    "(stats-500-chapter01)=\n",
    "## Chapter 1: Statistics and the Scientific Method"
   ]
  },
  {
   "cell_type": "markdown",
   "id": "49a42c97",
   "metadata": {},
   "source": [
    "In general, we can think of statistics as the science of \"learning\" from data. It is concerned with designing studies, experiments, collecting data, modeling or analyzing data with purpose of decision making or scientific discovery. This is in the context where information is both limited and variable. As such, statistics is also the science of \"uncertainty\". In the process of doing statistics, there are fourth fundamental steps involved:\n",
    "\n",
    "- *Defining the problem:* This is the foundational first step in the data learning process and is crucial for intelligent data gathering. It focuses in clearly specifying the objective of the study, survey, or experiment, and identifying the variable(s) of interest. A precise problem definition is paramount, as an improperly defined problem can lead to misleading interpretations of analytical results. \n",
    "\n",
    "- *Collecting the Data:* This step involves choosing an appropriate design for the survey or experimental study and then gathering the data. It distinguishes between observational studies (passive recording) and experimental studies (active manipulation).\n",
    "\n",
    "- *Summarizing the Data:* After collection, this step is about organizing, summarizing, and describing the data. It employs both graphical techniques (like pie charts, bar charts, histograms, stem-and-leaf plots, and time series) and numerical techniques (such as measures of central tendency like mode, median, and mean, and measures of variability like range, interquartile range, variance, and standard deviation). This step helps in driving potential hypothesis and relationship between variables.\n",
    "\n",
    "- *Analyzing the Data, Interpreting the Analyses, and Communicating the Results:*  This final step involves drawing inferences about a population from sample data, interpreting these findings, and communicating them effectively in non-statistical jargon to the intended audience.\n",
    "\n",
    "These steps parallel those of the [scientific method](https://en.wikipedia.org/wiki/Scientific_method#:~:text=An%20iterative%2C%5B48%5D%20pragmatic%5B16%5D%20scheme%20of%20the%20four%20points%20above%20is%20sometimes%20offered%20as%20a%20guideline%20for%20proceeding%3A%5B) which is used for scientists in the pursue of knowledge.\n",
    "\n",
    "\n"
   ]
  },
  {
   "cell_type": "markdown",
   "id": "463ac140",
   "metadata": {},
   "source": [
    "In this chapter it is introduced two key terms essential for statistics: *population* and *sample.*\n",
    "\n",
    "> **Population:** Within the context of \"Defining the Problem\", *population* is the set of all measurements of interest as posed by the problem at hand. \n",
    ">\n",
    "> **Sample:** Is any subset (of measurements) from the population.\n",
    "\n",
    "Some textbooks, specially focused in epidemiology or experimental, define the population as the set of all units or subjects of interest and the measurements are simply attributes associated with each unit or subject. In other scenarios such as inference or mathematical statistics, the focus is in the measurements which are linked to a random variable. However, there should not be confusion if we keep in mind that if in case population is defined as a set of objects/units/subjects, there should be one or more measurements associated with each unit.\n",
    "\n",
    "When defining the problem of interest, it is often the case that the target population is a very large or even infinite set. This is what makes necessary a sample. Consequently, a sample must be representative of the population so that any conclusions derived from the sample also apply to the population. To accomplish this, sample techniques involving a random component is needed."
   ]
  },
  {
   "cell_type": "code",
   "execution_count": null,
   "id": "7d887165",
   "metadata": {
    "vscode": {
     "languageId": "plaintext"
    }
   },
   "outputs": [],
   "source": []
  },
  {
   "cell_type": "markdown",
   "id": "d80b9ef9",
   "metadata": {},
   "source": []
  }
 ],
 "metadata": {
  "language_info": {
   "name": "python"
  }
 },
 "nbformat": 4,
 "nbformat_minor": 5
}
