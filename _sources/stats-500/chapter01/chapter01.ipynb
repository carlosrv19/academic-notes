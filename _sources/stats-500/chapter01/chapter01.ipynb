{
 "cells": [
  {
   "cell_type": "markdown",
   "id": "52ba85f9",
   "metadata": {},
   "source": [
    "(stats-500-chapter01)=\n",
    "## Chapter 1: Statistics and the Scientific Method"
   ]
  },
  {
   "cell_type": "markdown",
   "id": "49a42c97",
   "metadata": {},
   "source": [
    "In general, we can think of statistics as the science of \"learning\" from data. It is concerned with designing studies, experiments, collecting data, modeling or analyzing data with purpose of decision making or scientific discovery. This is in the context where information is both limited and variable. As such, statistics is also the science of \"uncertainty\". In the process of doing statistics, there are fourth fundamental steps involved:\n",
    "- *Defining the problem:* This is the foundational first step in the data learning process and is crucial for intelligent data gathering. It focuses in clearly specifying the objective of the study, survey, or experiment, and identifying the variable(s) of interest. A precise problem definition is paramount, as an improperly defined problem can lead to misleading interpretations of analytical results. \n",
    "\n",
    "- *Collecting the Data:* This step involves choosing an appropriate design for the survey or experimental study and then gathering the data. It distinguishes between observational studies (passive recording) and experimental studies (active manipulation).\n",
    "\n",
    "- *Summarizing the Data:* After collection, this step is about organizing, summarizing, and describing the data. It employs both graphical techniques (like pie charts, bar charts, histograms, stem-and-leaf plots, and time series) and numerical techniques (such as measures of central tendency like mode, median, and mean, and measures of variability like range, interquartile range, variance, and standard deviation). This step helps in driving potential hypothesis and relationship between variables.\n",
    "\n",
    "- *Analyzing the Data, Interpreting the Analyses, and Communicating the Results:*  This final step involves drawing inferences about a population from sample data, interpreting these findings, and communicating them effectively in non-statistical jargon to the intended audience.\n",
    "\n"
   ]
  }
 ],
 "metadata": {
  "language_info": {
   "name": "python"
  }
 },
 "nbformat": 4,
 "nbformat_minor": 5
}
