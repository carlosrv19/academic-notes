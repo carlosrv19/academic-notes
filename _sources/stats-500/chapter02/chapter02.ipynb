{
 "cells": [
  {
   "cell_type": "markdown",
   "id": "8486f56f",
   "metadata": {},
   "source": [
    "(stats-500-chapter02)=\n",
    "## Chapter 2: Using Surveys Studies to Gather Data"
   ]
  },
  {
   "cell_type": "markdown",
   "id": "c90c64b2",
   "metadata": {},
   "source": [
    "In this chapter we deep dive in some type of research study. They can ba *observational* or *experimental* studies."
   ]
  },
  {
   "cell_type": "markdown",
   "id": "55c8194f",
   "metadata": {},
   "source": []
  }
 ],
 "metadata": {
  "language_info": {
   "name": "python"
  }
 },
 "nbformat": 4,
 "nbformat_minor": 5
}
