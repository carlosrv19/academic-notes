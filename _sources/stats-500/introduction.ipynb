{
 "cells": [
  {
   "cell_type": "markdown",
   "id": "561d6756",
   "metadata": {},
   "source": [
    "# STATS 500: Applied Statistics\n",
    "## Introduction"
   ]
  },
  {
   "cell_type": "markdown",
   "id": "d26ae02d",
   "metadata": {},
   "source": [
    "These notes provide an introduction to graduate-level statistical methods and data analysis, corresponding to a STAT500 course. The material comprehensively covers various study designs, data collection techniques, and analytical procedures. It differentiates between experimental and observational studies, detailing specific types such as surveys, prospective, and retrospective analyses, alongside common sampling methods including stratified, cluster, and systematic sampling. Descriptive statistics are thoroughly explained, encompassing graphical representations like histograms and boxplots, measures of central tendency (mean, median, mode), and measures of variability. Furthermore, the notes elucidate fundamental probability concepts, including classical and conditional probability, Bayes’ Formula, and key probability distributions such as the binomial and Poisson. The latter half of the content is dedicated to statistical inference, covering the construction of confidence intervals and the execution of hypothesis testing for single and multiple population means, proportions, and variances. This includes the application of various tests, such as t-tests, F-tests, chi-square tests, and nonparametric alternatives like the Wilcoxon tests. Finally, the text explores regression analysis, progressing from simple linear to multiple and logistic regression, addressing model fitting, evaluation, and common issues like collinearity. It also introduces analysis of variance (ANOVA) for both completely randomized and blocked designs, as well as analysis of covariance (ANCOVA) for covariate adjustment.\n",
    "\n",
    "The textbook used as reference is: \n",
    "- Ott, R. L., and Longnecker, M. (2016).  An Introduction to Statistical Methods and Data Analysis, 7th Edition, Cengage Learning\n"
   ]
  },
  {
   "cell_type": "markdown",
   "id": "63f4cb14",
   "metadata": {},
   "source": []
  }
 ],
 "metadata": {
  "language_info": {
   "name": "python"
  }
 },
 "nbformat": 4,
 "nbformat_minor": 5
}
