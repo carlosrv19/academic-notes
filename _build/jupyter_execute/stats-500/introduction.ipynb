{
 "cells": [
  {
   "cell_type": "markdown",
   "id": "561d6756",
   "metadata": {},
   "source": [
    "# Introduction"
   ]
  },
  {
   "cell_type": "markdown",
   "id": "d26ae02d",
   "metadata": {},
   "source": [
    "In general, we can think of statistics as the science of \"learning\" from data. It is concerned with designing studies, experiments, collecting data, modeling or analyzing data with purpose of decision making or scientific discovery. This is in the context where information is both limited and variable. As such, statistics is also the science of \"uncertainty\"."
   ]
  },
  {
   "cell_type": "markdown",
   "id": "04f59178",
   "metadata": {},
   "source": []
  }
 ],
 "metadata": {
  "language_info": {
   "codemirror_mode": {
    "name": "ipython",
    "version": 3
   },
   "file_extension": ".py",
   "mimetype": "text/x-python",
   "name": "python",
   "nbconvert_exporter": "python",
   "pygments_lexer": "ipython3",
   "version": "3.12.10"
  }
 },
 "nbformat": 4,
 "nbformat_minor": 5
}