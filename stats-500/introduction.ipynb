{
 "cells": [
  {
   "cell_type": "markdown",
   "id": "561d6756",
   "metadata": {},
   "source": [
    "# Introduction"
   ]
  },
  {
   "cell_type": "markdown",
   "id": "d26ae02d",
   "metadata": {},
   "source": [
    "In general, we can think of statistics as the science of \"learning\" from data. It is concerned with designing studies, experiments, collecting data, modeling or analyzing data with purpose of decision making or scientific discovery. This is in the context where information is both limited and variable. As such, statistics is also the science of \"uncertainty\"."
   ]
  },
  {
   "cell_type": "markdown",
   "id": "04f59178",
   "metadata": {},
   "source": []
  }
 ],
 "metadata": {
  "language_info": {
   "name": "python"
  }
 },
 "nbformat": 4,
 "nbformat_minor": 5
}
