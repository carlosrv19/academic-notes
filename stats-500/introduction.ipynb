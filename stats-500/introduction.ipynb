{
 "cells": [
  {
   "cell_type": "markdown",
   "id": "561d6756",
   "metadata": {},
   "source": [
    "# STATS 500: Applied Statistics\n",
    "## Introduction"
   ]
  },
  {
   "cell_type": "markdown",
   "id": "d26ae02d",
   "metadata": {},
   "source": [
    "These notes provide an introduction to statistical methods and data analysis as presented at the level STAT500 in a graduate class. It covers various study designs, data collection techniques, and analytical procedures. It differentiates between experimental and observational studies, detailing types like surveys, prospective, and retrospective analyses, alongside sampling methods such as stratified, cluster, and systematic sampling. The material explains descriptive statistics including graphical representations like histograms and boxplots, measures of central tendency (mean, median, mode), and measures of variability. Furthermore, it discusses probability concepts including classical and conditional probability, Bayes' Formula, and probability distributions like the binomial and Poisson. The latter half focuses on statistical inference, encompassing confidence intervals and hypothesis testing for single and multiple population means, proportions, and variances, utilizing various tests like t-tests, F-tests, chi-square tests, and nonparametric alternatives such as the Wilcoxon tests. Finally, the text explores regression analysis, from simple linear to multiple and logistic regression, including model fitting, evaluation, and addressing issues like collinearity, and introduces analysis of variance (ANOVA) for completely randomized and blocked designs, as well as the analysis of covariance (ANCOVA) for adjusting for covariates."
   ]
  }
 ],
 "metadata": {
  "language_info": {
   "name": "python"
  }
 },
 "nbformat": 4,
 "nbformat_minor": 5
}
